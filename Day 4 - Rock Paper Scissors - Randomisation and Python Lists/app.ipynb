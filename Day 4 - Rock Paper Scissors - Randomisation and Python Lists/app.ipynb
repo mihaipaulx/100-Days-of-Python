{
 "cells": [
  {
   "cell_type": "code",
   "execution_count": 1,
   "id": "609835e6",
   "metadata": {},
   "outputs": [],
   "source": [
    "rock = '''\n",
    "    _______\n",
    "---'   ____)\n",
    "      (_____)\n",
    "      (_____)\n",
    "      (____)\n",
    "---.__(___)\n",
    "'''\n",
    "\n",
    "paper = '''\n",
    "    _______\n",
    "---'   ____)____\n",
    "          ______)\n",
    "          _______)\n",
    "         _______)\n",
    "---.__________)\n",
    "'''\n",
    "\n",
    "scissors = '''\n",
    "    _______\n",
    "---'   ____)____\n",
    "          ______)\n",
    "       __________)\n",
    "      (____)\n",
    "---.__(___)\n",
    "'''\n",
    "\n",
    "#Write your code below this line 👇"
   ]
  },
  {
   "cell_type": "code",
   "execution_count": 4,
   "id": "4dcd348d",
   "metadata": {},
   "outputs": [],
   "source": [
    "import random"
   ]
  },
  {
   "cell_type": "code",
   "execution_count": 8,
   "id": "86c369b0",
   "metadata": {},
   "outputs": [
    {
     "name": "stdout",
     "output_type": "stream",
     "text": [
      "Enter '0' for Rock, '1' for Paper or '2' for Scissors.\n",
      "1\n",
      "You chose:\n",
      "\n",
      "    _______\n",
      "---'   ____)____\n",
      "          ______)\n",
      "          _______)\n",
      "         _______)\n",
      "---.__________)\n",
      "\n",
      "Computer chose:\n",
      "\n",
      "    _______\n",
      "---'   ____)____\n",
      "          ______)\n",
      "          _______)\n",
      "         _______)\n",
      "---.__________)\n",
      "\n",
      "It's a draw\n"
     ]
    }
   ],
   "source": [
    "choices = [rock, paper, scissors] # Select choice based on index\n",
    "\n",
    "user_choice = int(input(\"Enter '0' for Rock, '1' for Paper or '2' for Scissors.\\n\"))\n",
    "if user_choice >= 3 or user_choice < 0: \n",
    "    print(\"You typed an invalid number, you lose!\")\n",
    "else:\n",
    "    \n",
    "    print(\"You chose:\")\n",
    "    print(choices[user_choice])\n",
    "\n",
    "    computer_choice = random.randint(0, 2) # Generate random choice\n",
    "    print(\"Computer chose:\")\n",
    "    print(choices[computer_choice])\n",
    "\n",
    "    if user_choice == 0 and computer_choice == 2:\n",
    "        print(\"You won!\")\n",
    "    elif computer_choice == 0 and user_choice == 2:\n",
    "        print(\"You lost\")\n",
    "    elif computer_choice > user_choice:\n",
    "        print(\"You lost\")\n",
    "    elif user_choice > computer_choice:\n",
    "        print(\"You won!\")\n",
    "    elif computer_choice == user_choice:\n",
    "        print(\"It's a draw\")"
   ]
  },
  {
   "cell_type": "code",
   "execution_count": null,
   "id": "46465246",
   "metadata": {},
   "outputs": [],
   "source": []
  }
 ],
 "metadata": {
  "kernelspec": {
   "display_name": "Python 3 (ipykernel)",
   "language": "python",
   "name": "python3"
  },
  "language_info": {
   "codemirror_mode": {
    "name": "ipython",
    "version": 3
   },
   "file_extension": ".py",
   "mimetype": "text/x-python",
   "name": "python",
   "nbconvert_exporter": "python",
   "pygments_lexer": "ipython3",
   "version": "3.11.5"
  }
 },
 "nbformat": 4,
 "nbformat_minor": 5
}

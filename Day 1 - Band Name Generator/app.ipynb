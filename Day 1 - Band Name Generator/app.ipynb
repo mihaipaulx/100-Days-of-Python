{
 "cells": [
  {
   "cell_type": "code",
   "execution_count": null,
   "id": "620f0a36",
   "metadata": {},
   "outputs": [],
   "source": [
    "import time"
   ]
  },
  {
   "cell_type": "code",
   "execution_count": null,
   "id": "7df37ad2",
   "metadata": {},
   "outputs": [],
   "source": [
    "print(\"Hello, welcome to Band Name Generator!\") # Greeting\n",
    "time.sleep(2) # Processing placeholder\n",
    "\n",
    "city = input(\"What city were you born in?\\n\") # City input\n",
    "time.sleep(2) # Processing placeholder\n",
    "\n",
    "pet = input(\"What's the name of your last pet?\\n\") # Pet input\n",
    "time.sleep(2) # Processing placeholder\n",
    "\n",
    "print(f\"The name of your band is: {city} {pet}\") # Band name output"
   ]
  },
  {
   "cell_type": "code",
   "execution_count": null,
   "id": "78608e89",
   "metadata": {},
   "outputs": [],
   "source": []
  }
 ],
 "metadata": {
  "kernelspec": {
   "display_name": "Python 3 (ipykernel)",
   "language": "python",
   "name": "python3"
  },
  "language_info": {
   "codemirror_mode": {
    "name": "ipython",
    "version": 3
   },
   "file_extension": ".py",
   "mimetype": "text/x-python",
   "name": "python",
   "nbconvert_exporter": "python",
   "pygments_lexer": "ipython3",
   "version": "3.11.5"
  }
 },
 "nbformat": 4,
 "nbformat_minor": 5
}

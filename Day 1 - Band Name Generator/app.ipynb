{
 "cells": [
  {
   "cell_type": "code",
   "execution_count": null,
   "id": "ae6323be",
   "metadata": {},
   "outputs": [],
   "source": [
    "import time"
   ]
  },
  {
   "cell_type": "code",
   "execution_count": null,
   "id": "d6cf79fb",
   "metadata": {},
   "outputs": [],
   "source": [
    "print(\"Hello, welcome to Band Name Generator!\")\n",
    "time.sleep(2)\n",
    "\n",
    "city = input(\"What city were you born in?\\n\")\n",
    "time.sleep(2)\n",
    "\n",
    "pet = input(\"What's the name of your last pet?\\n\")\n",
    "time.sleep(2)\n",
    "\n",
    "print(f\"The name of your band is: {city} {pet}\")"
   ]
  },
  {
   "cell_type": "code",
   "execution_count": null,
   "id": "89a49059",
   "metadata": {},
   "outputs": [],
   "source": []
  }
 ],
 "metadata": {
  "kernelspec": {
   "display_name": "Python 3 (ipykernel)",
   "language": "python",
   "name": "python3"
  },
  "language_info": {
   "codemirror_mode": {
    "name": "ipython",
    "version": 3
   },
   "file_extension": ".py",
   "mimetype": "text/x-python",
   "name": "python",
   "nbconvert_exporter": "python",
   "pygments_lexer": "ipython3",
   "version": "3.11.5"
  }
 },
 "nbformat": 4,
 "nbformat_minor": 5
}

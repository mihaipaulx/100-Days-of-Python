{
 "cells": [
  {
   "cell_type": "code",
   "execution_count": 1,
   "id": "cf94469d",
   "metadata": {},
   "outputs": [
    {
     "name": "stdout",
     "output_type": "stream",
     "text": [
      "Enter the first number: \n",
      "2\n",
      "Pick an operation (+, -, *, /, **): \n",
      "**\n",
      "Enter the second number: \n",
      "3\n",
      "2.0 ** 3.0 = 8.0\n"
     ]
    }
   ],
   "source": [
    "def add(a, b):\n",
    "    return a + b\n",
    "\n",
    "def subtract(a, b):\n",
    "    return a - b\n",
    "\n",
    "def multiply(a, b):\n",
    "    return a * b\n",
    "\n",
    "def divide(a, b):\n",
    "    return a / b\n",
    "\n",
    "def power(a, b):\n",
    "    return a ** b\n",
    "\n",
    "operations = {\n",
    "    \"+\": add,\n",
    "    \"-\": subtract,\n",
    "    \"*\": multiply,\n",
    "    \"/\": divide,\n",
    "    \"**\": power\n",
    "}\n",
    "\n",
    "def calculator():\n",
    "    a = float(input(\"Enter the first number: \\n\"))\n",
    "    sign = input(\"Pick an operation (+, -, *, /, **): \\n\")\n",
    "    b = float(input(\"Enter the second number: \\n\"))\n",
    "    calculation_function = operations[sign]\n",
    "    answer = calculation_function(a, b)\n",
    "    print(f\"{a} {sign} {b} = {answer}\")\n",
    "\n",
    "\n",
    "calculator()"
   ]
  },
  {
   "cell_type": "code",
   "execution_count": null,
   "id": "97d6c269",
   "metadata": {},
   "outputs": [],
   "source": []
  }
 ],
 "metadata": {
  "kernelspec": {
   "display_name": "Python 3 (ipykernel)",
   "language": "python",
   "name": "python3"
  },
  "language_info": {
   "codemirror_mode": {
    "name": "ipython",
    "version": 3
   },
   "file_extension": ".py",
   "mimetype": "text/x-python",
   "name": "python",
   "nbconvert_exporter": "python",
   "pygments_lexer": "ipython3",
   "version": "3.11.5"
  }
 },
 "nbformat": 4,
 "nbformat_minor": 5
}

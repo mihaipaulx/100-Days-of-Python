{
 "cells": [
  {
   "cell_type": "code",
   "execution_count": 1,
   "id": "33e6f9d5",
   "metadata": {},
   "outputs": [],
   "source": [
    "import time"
   ]
  },
  {
   "cell_type": "code",
   "execution_count": 2,
   "id": "fa06cfcd",
   "metadata": {},
   "outputs": [],
   "source": [
    "allowed_tips = (10, 12, 15) # Allowed tips"
   ]
  },
  {
   "cell_type": "code",
   "execution_count": 6,
   "id": "f13fdf86",
   "metadata": {},
   "outputs": [
    {
     "name": "stdout",
     "output_type": "stream",
     "text": [
      "Welcome to the tip calculator!\n",
      "What was the total bill?\n",
      "1212.13\n",
      "How much tip would you like to give? 10, 12, or 15?\n",
      "15\n",
      "How many people to split the bill?\n",
      "8\n",
      "Each person should pay: $174.25, with a tip of $22.73.\n"
     ]
    }
   ],
   "source": [
    "print(\"Welcome to the tip calculator!\") # Greeting\n",
    "time.sleep(2) # Processing placeholder\n",
    "\n",
    "bill = None\n",
    "while not isinstance(bill, float): # Repeat until bill is a float\n",
    "    try:\n",
    "        _input = input(\"What was the total bill?\\n\") # Input bill\n",
    "        time.sleep(2) # Processing placeholder\n",
    "\n",
    "        bill_float = float(_input) # Make bill float\n",
    "        if bill_float < 0: # If bill is negative\n",
    "            raise Exception() # Raise exception\n",
    "        \n",
    "        bill = bill_float # Update bill\n",
    "    except:\n",
    "        print(\"Bill amount is not valid, please try again.\")\n",
    "        \n",
    "tip = None\n",
    "while not isinstance(tip, int): # Repeat until tip is an integer\n",
    "    try:\n",
    "        _input = input(\"How much tip would you like to give? 10, 12, or 15?\\n\") # Input tip\n",
    "        time.sleep(2) # Processing placeholder\n",
    "\n",
    "        tip_int = int(_input) # Make tip integer\n",
    "        if tip_int not in allowed_tips: # If tip is not part of allowed tips\n",
    "            raise Exception() # Raise exception\n",
    "            \n",
    "        tip = tip_int # Update tip\n",
    "    except:\n",
    "        print(\"Tip amount is not valid, please try again.\")\n",
    "        \n",
    "people = None\n",
    "while not isinstance(people, int): # Repeat until people amount is an integer\n",
    "    try:\n",
    "        _input = input(\"How many people to split the bill?\\n\") # Input people\n",
    "        time.sleep(2) # Processing placeholder\n",
    "\n",
    "        people_int = int(_input) # Make people amount an integer\n",
    "        if people_int < 1: # If people amount is negative or 0\n",
    "            raise Exception() # Raise exception\n",
    "        \n",
    "        people = people_int # Update people amount\n",
    "    except:\n",
    "        print(\"People amount is not valid, please try again.\")\n",
    "\n",
    "time.sleep(2) # Processing placeholder\n",
    "\n",
    "person_payment_without_tip = round((bill / people), 2) # Each person's payment without tips\n",
    "person_payment_with_tip = round((person_payment_without_tip * (1 + tip / 100)), 2) # Each person's payment with tips\n",
    "person_payment_tip = round(person_payment_with_tip - person_payment_without_tip, 2) # Each person's tip\n",
    "\n",
    "print(f\"Each person should pay: ${person_payment_with_tip}, with a tip of ${person_payment_tip}.\")"
   ]
  },
  {
   "cell_type": "code",
   "execution_count": null,
   "id": "60e72675",
   "metadata": {},
   "outputs": [],
   "source": []
  }
 ],
 "metadata": {
  "kernelspec": {
   "display_name": "Python 3 (ipykernel)",
   "language": "python",
   "name": "python3"
  },
  "language_info": {
   "codemirror_mode": {
    "name": "ipython",
    "version": 3
   },
   "file_extension": ".py",
   "mimetype": "text/x-python",
   "name": "python",
   "nbconvert_exporter": "python",
   "pygments_lexer": "ipython3",
   "version": "3.11.5"
  }
 },
 "nbformat": 4,
 "nbformat_minor": 5
}

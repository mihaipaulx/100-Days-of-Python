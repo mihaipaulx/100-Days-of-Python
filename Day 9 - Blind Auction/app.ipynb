{
 "cells": [
  {
   "cell_type": "code",
   "execution_count": 8,
   "id": "d91cbec3",
   "metadata": {},
   "outputs": [
    {
     "name": "stdout",
     "output_type": "stream",
     "text": [
      "What is your name?: b\n",
      "What is your bid?: $2\n",
      "Are there any other bidders? Type 'yes or 'no'.\n",
      "no\n",
      "The winner is a with a bid of $3\n"
     ]
    }
   ],
   "source": [
    "from IPython.display import clear_output\n",
    "\n",
    "logo = '''\n",
    "                         ___________\n",
    "                         \\         /\n",
    "                          )_______(\n",
    "                          |\"\"\"\"\"\"\"|_.-._,.---------.,_.-._\n",
    "                          |       | | |               | | ''-.\n",
    "                          |       |_| |_             _| |_..-'\n",
    "                          |_______| '-' `'---------'` '-'\n",
    "                          )\"\"\"\"\"\"\"(\n",
    "                         /_________\\\\\n",
    "                       .-------------.\n",
    "                      /_______________\\\\\n",
    "'''\n",
    "\n",
    "print(logo)\n",
    "\n",
    "bids = {}\n",
    "bidding_finished = False\n",
    "\n",
    "def find_highest_bid():\n",
    "    highest_bid = 0\n",
    "    winner = \"\"\n",
    "    for bidder in bids:\n",
    "        bid_amount = bids[bidder]\n",
    "        if bid_amount > highest_bid: \n",
    "            highest_bid = bid_amount\n",
    "            winner = bidder\n",
    "    print(f\"The winner is {winner} with a bid of ${highest_bid}\")\n",
    "\n",
    "while True:\n",
    "    name = input(\"What is your name?: \")\n",
    "    price = int(input(\"What is your bid?: $\"))\n",
    "    bids[name] = price\n",
    "    more_bidders = input(\"Are there more bidders? Type 'yes or 'no'.\\n\")\n",
    "    if more_bidders == \"no\":\n",
    "        find_highest_bidder()\n",
    "        break\n",
    "    elif more_bidders == \"yes\":\n",
    "        clear_output(wait=True)"
   ]
  },
  {
   "cell_type": "code",
   "execution_count": null,
   "id": "b61c5d80",
   "metadata": {},
   "outputs": [],
   "source": []
  }
 ],
 "metadata": {
  "kernelspec": {
   "display_name": "Python 3 (ipykernel)",
   "language": "python",
   "name": "python3"
  },
  "language_info": {
   "codemirror_mode": {
    "name": "ipython",
    "version": 3
   },
   "file_extension": ".py",
   "mimetype": "text/x-python",
   "name": "python",
   "nbconvert_exporter": "python",
   "pygments_lexer": "ipython3",
   "version": "3.11.5"
  }
 },
 "nbformat": 4,
 "nbformat_minor": 5
}

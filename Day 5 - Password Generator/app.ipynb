{
 "cells": [
  {
   "cell_type": "code",
   "execution_count": null,
   "id": "769b989f",
   "metadata": {
    "scrolled": true
   },
   "outputs": [],
   "source": [
    "#Password Generator Project\n",
    "import random\n",
    "letters = ['a', 'b', 'c', 'd', 'e', 'f', 'g', 'h', 'i', 'j', 'k', 'l', 'm', 'n', 'o', 'p', 'q', 'r', 's', 't', 'u', 'v', 'w', 'x', 'y', 'z', 'A', 'B', 'C', 'D', 'E', 'F', 'G', 'H', 'I', 'J', 'K', 'L', 'M', 'N', 'O', 'P', 'Q', 'R', 'S', 'T', 'U', 'V', 'W', 'X', 'Y', 'Z']\n",
    "numbers = ['0', '1', '2', '3', '4', '5', '6', '7', '8', '9']\n",
    "symbols = ['!', '#', '$', '%', '&', '(', ')', '*', '+']\n",
    "\n",
    "print(\"Welcome to the PyPassword Generator!\")\n",
    "nr_letters= int(input(\"How many letters would you like in your password?\\n\"))\n",
    "nr_numbers = int(input(f\"How many numbers would you like?\\n\"))\n",
    "nr_symbols = int(input(f\"How many symbols would you like?\\n\"))\n",
    "\n",
    "#Eazy Level - Order not randomised:\n",
    "#e.g. 4 letter, 2 symbol, 2 number = JduE&!91\n",
    "\n",
    "\n",
    "#Hard Level - Order of characters randomised:\n",
    "#e.g. 4 letter, 2 symbol, 2 number = g^2jk8&P\n",
    "\n",
    "characters = []\n",
    "\n",
    "for nr in range(0, nr_letters): # Repeat nr_letters times\n",
    "    characters.append(random.choice(letters)) # Add random letter to characters\n",
    "    \n",
    "for nr in range(0, nr_numbers): # Repeat nr_symbols times\n",
    "    characters.append(random.choice(numbers)) # Add random number to characters\n",
    "    \n",
    "for nr in range(0, nr_symbols): # Repeat nr_numbers times\n",
    "    characters.append(random.choice(symbols)) # Add random symbol to characters    \n",
    "    \n",
    "random.shuffle(characters) # Shuffle characters\n",
    "    \n",
    "password = \"\".join([char for char in characters]) # Join characters into password string\n",
    "\n",
    "print(f\"Your generated password is: \\n{password}\")"
   ]
  },
  {
   "cell_type": "code",
   "execution_count": null,
   "id": "8421db7d",
   "metadata": {},
   "outputs": [],
   "source": []
  }
 ],
 "metadata": {
  "kernelspec": {
   "display_name": "Python 3 (ipykernel)",
   "language": "python",
   "name": "python3"
  },
  "language_info": {
   "codemirror_mode": {
    "name": "ipython",
    "version": 3
   },
   "file_extension": ".py",
   "mimetype": "text/x-python",
   "name": "python",
   "nbconvert_exporter": "python",
   "pygments_lexer": "ipython3",
   "version": "3.11.5"
  }
 },
 "nbformat": 4,
 "nbformat_minor": 5
}

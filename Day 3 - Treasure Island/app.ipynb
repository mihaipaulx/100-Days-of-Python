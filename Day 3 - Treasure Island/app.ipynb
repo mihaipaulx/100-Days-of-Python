{
 "cells": [
  {
   "cell_type": "code",
   "execution_count": null,
   "id": "53b331c1",
   "metadata": {},
   "outputs": [],
   "source": [
    "import time"
   ]
  },
  {
   "cell_type": "code",
   "execution_count": null,
   "id": "03932ac1",
   "metadata": {},
   "outputs": [],
   "source": [
    "print('''\n",
    "*******************************************************************************\n",
    "          |                   |                  |                     |\n",
    " _________|________________.=\"\"_;=.______________|_____________________|_______\n",
    "|                   |  ,-\"_,=\"\"     `\"=.|                  |\n",
    "|___________________|__\"=._o`\"-._        `\"=.______________|___________________\n",
    "          |                `\"=._o`\"=._      _`\"=._                     |\n",
    " _________|_____________________:=._o \"=._.\"_.-=\"'\"=.__________________|_______\n",
    "|                   |    __.--\" , ; `\"=._o.\" ,-\"\"\"-._ \".   |\n",
    "|___________________|_._\"  ,. .` ` `` ,  `\"-._\"-._   \". '__|___________________\n",
    "          |           |o`\"=._` , \"` `; .\". ,  \"-._\"-._; ;              |\n",
    " _________|___________| ;`-.o`\"=._; .\" ` '`.\"\\` . \"-._ /_______________|_______\n",
    "|                   | |o;    `\"-.o`\"=._``  '` \" ,__.--o;   |\n",
    "|___________________|_| ;     (#) `-.o `\"=.`_.--\"_o.-; ;___|___________________\n",
    "____/______/______/___|o;._    \"      `\".o|o_.--\"    ;o;____/______/______/____\n",
    "/______/______/______/_\"=._o--._        ; | ;        ; ;/______/______/______/_\n",
    "____/______/______/______/__\"=._o--._   ;o|o;     _._;o;____/______/______/____\n",
    "/______/______/______/______/____\"=._o._; | ;_.--\"o.--\"_/______/______/______/_\n",
    "____/______/______/______/______/_____\"=.o|o_.--\"\"___/______/______/______/____\n",
    "/______/______/______/______/______/______/______/______/______/______/_____ /\n",
    "*******************************************************************************\n",
    "''')\n",
    "print(\"Welcome to Treasure Island.\")\n",
    "print(\"Your mission is to find the treasure.\")\n",
    "\n",
    "#Write your code below this line 👇\n",
    "\n",
    "choice_1 = input('There is a cross road. Where do you want to go? Type \"left\" or \"right\".\\n').lower()\n",
    "time.sleep(2) # Processing placeholder\n",
    "\n",
    "if choice_1 == \"left\":\n",
    "    choice_2 = input('In front of you there is a lake. There is also an island in the middle of the lake. Type \"wait\" to wait for a boat. Type \"swim\" to swim across.\\n').lower()\n",
    "    time.sleep(2) # Processing placeholder\n",
    "    \n",
    "    if choice_2 == \"wait\":\n",
    "        choice_3 = input(\"You get at the island. There is a house that has 3 doors: red, yellow and blue. Which one do you choose?\\n\").lower()\n",
    "        time.sleep(2) # Processing placeholder\n",
    "        \n",
    "        if choice_3 == \"red\":\n",
    "            print(\"You enter a room full of fire. Game Over.\")\n",
    "        elif choice_3 == \"yellow\":\n",
    "            print(\"You find the treasure! You Win!\")\n",
    "        elif choice_3 == \"blue\":\n",
    "            print(\"You get yourself into a room of beasts. Game Over.\")\n",
    "        else:\n",
    "            print(\"You fail to choose one of the doors. Game Over.\")\n",
    "    else:\n",
    "        print(\"You get attacked by an angry trout. Game Over.\")\n",
    "else:\n",
    "    print(\"You fall into a hole. Game Over.\")"
   ]
  },
  {
   "cell_type": "code",
   "execution_count": null,
   "id": "d1a653b9",
   "metadata": {},
   "outputs": [],
   "source": []
  }
 ],
 "metadata": {
  "kernelspec": {
   "display_name": "Python 3 (ipykernel)",
   "language": "python",
   "name": "python3"
  },
  "language_info": {
   "codemirror_mode": {
    "name": "ipython",
    "version": 3
   },
   "file_extension": ".py",
   "mimetype": "text/x-python",
   "name": "python",
   "nbconvert_exporter": "python",
   "pygments_lexer": "ipython3",
   "version": "3.11.5"
  }
 },
 "nbformat": 4,
 "nbformat_minor": 5
}
